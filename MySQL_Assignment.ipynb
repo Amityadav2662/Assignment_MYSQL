{
 "cells": [
  {
   "cell_type": "code",
   "execution_count": null,
   "id": "b71e407d-fcc9-4120-a85e-72b8d24dde55",
   "metadata": {},
   "outputs": [],
   "source": [
    "# Q1. What is a database? Differentiate between SQL and NoSQL databases.\n",
    "Ans.\n",
    "A database is a structured collection of data that is organized, stored, and managed in a way that enables \n",
    "efficient retrieval, updating, and analysis of the data. \n",
    "\n",
    "MySQl: MySQL is an open-source relational database management system. As with other relational databases, \n",
    "MySQL stores data in tables made up of rows and columns. Users can define, manipulate, control, and query data \n",
    "using Structured Query Language, more commonly known as SQL.\n",
    "\n",
    "NoSQL: NoSQL databases are non-tabular databases and store data differently than relational tables.\n",
    "NoSQL databases come in a variety of types based on their data model. The main types are document, key-value, wide-column,\n",
    "and graph. They provide flexible schemas and scale easily with large amounts of data and high user loads."
   ]
  },
  {
   "cell_type": "code",
   "execution_count": null,
   "id": "f96fe545-fb59-4c6d-8f0c-382cd7e8861b",
   "metadata": {},
   "outputs": [],
   "source": [
    "# Q2. What is DDL? Explain why CREATE, DROP, ALTER, and TRUNCATE are used with an example.\n",
    "Ans.\n",
    "DDL: DDL stands for data defination language.It is basically used for define and manage the structure.\n",
    "DDL statements are used to create, modify, and delete database objects such as tables, indexes, views, and schemas.\n",
    "\n",
    "CREATE: Create is basically used for making a new database object.\n",
    "DROP: Drop is used for removing the existing table.\n",
    "ALTER: Alter is used to modify the structure of an existing table object.\n",
    "TRUNCATE: The TRUNCATE statement is used to remove all the data from a table while keeping its structure intact. Unlike\n",
    "the DROP statement, which completely removes the table, TRUNCATE only removes the data rows."
   ]
  },
  {
   "cell_type": "code",
   "execution_count": null,
   "id": "ff04f461-f6ee-4e5e-9ca7-be76f41abdf1",
   "metadata": {},
   "outputs": [],
   "source": [
    "# EXAMPLE FOR CREATE\n",
    "CREATE TABLE employee(\n",
    "    ID INT PRIMARY KEY,\n",
    "    Name VARCHAR(50),\n",
    "    Salary DECIMAL(10,2)\n",
    ");"
   ]
  },
  {
   "cell_type": "code",
   "execution_count": null,
   "id": "231efb25-8e3e-4721-b09e-7282332b5415",
   "metadata": {},
   "outputs": [],
   "source": [
    "# EXAMPLE FOR DROP\n",
    "DROP TABLE employee;"
   ]
  },
  {
   "cell_type": "code",
   "execution_count": null,
   "id": "5ed694c8-ecc8-44c8-8422-efcf4e6efd3f",
   "metadata": {},
   "outputs": [],
   "source": [
    "# EXAMPLE FOR ALTER\n",
    "ALTER TABLE Employees\n",
    "ADD Department VARCHAR(50);"
   ]
  },
  {
   "cell_type": "code",
   "execution_count": null,
   "id": "74f8fb45-13ba-4154-974b-7650ebb15b3a",
   "metadata": {},
   "outputs": [],
   "source": [
    "# EXAMPLE FOR TRUNCATE\n",
    "TRUNCATE TABLE employee;"
   ]
  },
  {
   "cell_type": "code",
   "execution_count": null,
   "id": "dc4634f2-c37d-464a-85da-86a3e5428495",
   "metadata": {},
   "outputs": [],
   "source": [
    "# Q3.What is DML? Explain INSERT, UPDATE, and DELETE with an example.\n",
    "Ans.\n",
    "DML : DML stands for Data Manipulation language. which consists of SQL commands used to manipulate and retrieve data\n",
    "within a database. DML statements are used to insert, update, and delete data in database tables.\n",
    "\n",
    "INSERT:  Insert statement is used to add new rows of data into a table. It allows you to specify the values for \n",
    "each column.\n",
    "\n",
    "UPDATE: Update statement is used to modify existing data in a table. It allows you to update specific columns \n",
    "or multiple columns at once.\n",
    "\n",
    "DELETE: Delete statement is used to remove specific rows from a table based on specified conditions. It \n",
    "permanently deletes the data from the table."
   ]
  },
  {
   "cell_type": "code",
   "execution_count": null,
   "id": "1d2973e9-eadb-479b-94cc-1c4fe3625539",
   "metadata": {},
   "outputs": [],
   "source": [
    "# Example for insert\n",
    "INSERT INTO employee(ID,Name,Salary)\n",
    "VALUES(1,\"Amit\",2000000);"
   ]
  },
  {
   "cell_type": "code",
   "execution_count": null,
   "id": "b59076c4-7211-4107-a884-f147ba74b4c6",
   "metadata": {},
   "outputs": [],
   "source": [
    "# Example for update\n",
    "UPDATE employee\n",
    "GET Salary = 200000\n",
    "WHERE ID = 1;"
   ]
  },
  {
   "cell_type": "code",
   "execution_count": null,
   "id": "b1a50b0b-7f3c-4170-bc9e-e0babc2db043",
   "metadata": {},
   "outputs": [],
   "source": [
    "# Example for delete\n",
    "DELETE employee\n",
    "WHERE ID = 2;"
   ]
  },
  {
   "cell_type": "code",
   "execution_count": null,
   "id": "1e500968-2cd2-4575-87f3-1558946e421f",
   "metadata": {},
   "outputs": [],
   "source": [
    "# Q4. What is DQL? Explain SELECT with an example.\n",
    "Ans.\n",
    "DQL : DQL stands for Data query language. It is a subset of SQL used to retrieve data from a database.\n",
    "\n",
    "SELECT: SELECT is used for fetching the data from the database table or multiple tables based on specific criteria."
   ]
  },
  {
   "cell_type": "code",
   "execution_count": null,
   "id": "063209ca-0387-4fa0-b428-165155649124",
   "metadata": {},
   "outputs": [],
   "source": [
    "# Example for select\n",
    "SELECT ID,Name,Salary\n",
    "FROM employee;"
   ]
  },
  {
   "cell_type": "code",
   "execution_count": null,
   "id": "e0a6f3ab-5adb-49f5-ad12-5c9a21f40ca0",
   "metadata": {},
   "outputs": [],
   "source": [
    "# Q5. Explain Primary Key and Foreign Key.\n",
    "Ans.\n",
    "Primary Key: A primary key is a column or a set of columns in a database table that uniquely identifies each row or record \n",
    "within that table. AN It is not null in table.\n",
    "\n",
    "Foreign Key: A foreign key is a column or a set of columns in a database table that establishes a link between two tables.\n",
    "It refers to the primary key of another table, creating a connection between the two tables. "
   ]
  },
  {
   "cell_type": "code",
   "execution_count": null,
   "id": "60dd8fa0-544e-42ac-8b3a-a93ef0d820e1",
   "metadata": {},
   "outputs": [],
   "source": [
    "# Q6. Write a python code to connect MySQL to python. Explain the cursor() and execute() method.\n",
    "import mysql.connector\n",
    "\n",
    "mydb = mysql.connector.connect(\n",
    "  host=\"localhost\",\n",
    "  user=\"abc\",\n",
    "  password=\"password\"\n",
    ")\n",
    "print(mydb)\n",
    "mycursor = mydb.cursor()\n",
    "mycursor.execute(\"SHOW DATABASES\")\n",
    "for x in mycursor:\n",
    "    print(x)"
   ]
  },
  {
   "cell_type": "code",
   "execution_count": null,
   "id": "570e98a8-af43-4ee3-81d4-e2a24a3c6fbd",
   "metadata": {},
   "outputs": [],
   "source": [
    "cursor(): the cursor() method is used to create a cursor object. The cursor object allows you to execute SQL statements\n",
    "and retrieve the results from the database.\n",
    "\n",
    "execute(): The execute() method is used to execute SQL statements or queries using the cursor object. It allows you to \n",
    "interact with the database by executing SQL statements such as SELECT, INSERT, UPDATE, DELETE, and more."
   ]
  },
  {
   "cell_type": "code",
   "execution_count": null,
   "id": "8d34220e-e419-4ba1-9831-3887dac7d373",
   "metadata": {},
   "outputs": [],
   "source": [
    "# Q7. Give the order of execution of SQL clauses in an SQL query.\n",
    "Ans.\n",
    "The order of execution of SQL clauses in an SQL query.\n",
    "a. FROM \n",
    "b. JOIN\n",
    "c. WHERE \n",
    "d. GROUP BY\n",
    "e. HAVING\n",
    "f. SELECT\n",
    "g. DISTINCT\n",
    "h. ORDER BY"
   ]
  }
 ],
 "metadata": {
  "kernelspec": {
   "display_name": "Python 3 (ipykernel)",
   "language": "python",
   "name": "python3"
  },
  "language_info": {
   "codemirror_mode": {
    "name": "ipython",
    "version": 3
   },
   "file_extension": ".py",
   "mimetype": "text/x-python",
   "name": "python",
   "nbconvert_exporter": "python",
   "pygments_lexer": "ipython3",
   "version": "3.10.8"
  }
 },
 "nbformat": 4,
 "nbformat_minor": 5
}
